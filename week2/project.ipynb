{
 "cells": [
  {
   "cell_type": "code",
   "execution_count": null,
   "metadata": {},
   "outputs": [],
   "source": [
    "# collecting the names of the students..\n",
    "\n",
    "# girls data\n",
    "\n",
    "girl_names = [\"Evelyn\", \"Jessica\", \"Somto\", \"Edith\", \"Liza\", \"Madonna\", \"Waje\", \"Tola\", \"Aisha\", \"Latifa\"]\n",
    "girl_ages = [17, 16, 17, 18, 16, 18, 17, 20, 19, 17]\n",
    "girl_height = [5.5, 6.0, 5.4, 5.9, 5.6, 5.5, 6.1, 6.0, 5.7, 5.5]\n",
    "girl_scores = [80, 85, 70, 60, 76, 66, 87, 95, 50, 49]\n",
    "\n",
    "# boys data\n",
    "boy_name = [\"Chinedu\", \"Liam\", 'Wale', 'Gbenga', 'Abiola', 'Kola', 'George', 'Thomas', 'Wesley']\n",
    "boy_age = [19, 16, 18, 17, 20, 19, 16, 18, 17, 19]\n",
    "boy_height = [5.7, 5.9, 5.8, 6.1, 5.9, 5.5, 6.1, 5.4, 5.8, 5.7]\n",
    "boy_scores = [74, 87, 75, 68, 66, 78, 87, 98, 54, 60]\n",
    "\n",
    "# creating table format\n",
    "\n",
    "data = [\n",
    "    [girl_names[i], girl_age[i], girl_height[i],  for i in range(e;len(girls_name))] + [[boy_name[i]], boy_age[i], boy_height[i], boy_scores[i]]]we"
   ]
  },
  {
   "cell_type": "code",
   "execution_count": 4,
   "metadata": {},
   "outputs": [
    {
     "name": "stdout",
     "output_type": "stream",
     "text": [
      "Area:  28.26\n"
     ]
    }
   ],
   "source": [
    "def calculate_area (radius):\n",
    "    pi = 3.14\n",
    "    area = pi * (radius)**2 \n",
    "    return area\n",
    "\n",
    "radius = float(input(\"Enter value for radius: \"))\n",
    "print(\"Area: \", calculate_area(radius))"
   ]
  },
  {
   "cell_type": "code",
   "execution_count": null,
   "metadata": {},
   "outputs": [],
   "source": [
    "def find_factors(n):\n",
    "    for i in range(i, n+1):\n",
    "        if i % n = 0:\n",
    "            \n"
   ]
  }
 ],
 "metadata": {
  "kernelspec": {
   "display_name": "Python 3",
   "language": "python",
   "name": "python3"
  },
  "language_info": {
   "codemirror_mode": {
    "name": "ipython",
    "version": 3
   },
   "file_extension": ".py",
   "mimetype": "text/x-python",
   "name": "python",
   "nbconvert_exporter": "python",
   "pygments_lexer": "ipython3",
   "version": "3.13.2"
  }
 },
 "nbformat": 4,
 "nbformat_minor": 2
}
