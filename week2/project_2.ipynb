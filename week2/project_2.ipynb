{
 "cells": [
  {
   "cell_type": "code",
   "execution_count": 11,
   "metadata": {},
   "outputs": [
    {
     "name": "stdout",
     "output_type": "stream",
     "text": [
      "Welcome to your basic sytems of equations\n",
      "Quadratic Equation (1) \n",
      "Cubic Equation (2) \n",
      "Invalid choice. Please select 1 or 2.\n"
     ]
    }
   ],
   "source": [
    "#Selection of choice\n",
    "print(\"Welcome to your basic sytems of equations\")\n",
    "print(\"Quadratic Equation (1) \\nCubic Equation (2) \")\n",
    "choice = int(input(\"Enter your desired choice: \"))\n",
    "\n",
    "# Quadratic Equation\n",
    "def quadratic(A, B, C):\n",
    "  x1 = (- B + (B ** 2 - 4 * A * C) ** (1 / 2)) /  (2 * A)\n",
    "  x2 = (- B - (B ** 2 - 4 * A * C) ** (1 / 2)) /  (2 * A)\n",
    "  return x1,x2\n",
    "\n",
    "\n",
    "# Cubic Equation\n",
    "def cubic(A, B, C, D):\n",
    "    x = (((B*C)/(6*(A**2))) - (D/(2*A)) - ((B**3)/(27*(A**3))) + ((((B*C)/(6*(A**2))) - (D/(2*A)) - ((B**3)/(27*(A**3))))**2 + ((C/(3*A)) - ((B**2)/(9*(A**2))))**3)**(1/2))**(1/3) + (((B*C)/(6*(A**2))) - (D/(2*A)) - ((B**3)/(27*(A**3))) - ((((B*C)/(6*(A**2))) - (D/(2*A)) - ((B**3)/(27*(A**3))))**2 + ((C/(3*A)) - ((B**2)/(9*(A**2))))**3)**(1/2))**(1/3) - B/(3*A)\n",
    "    return x\n",
    "\n",
    "# Handling user's choice\n",
    "if choice == 1:\n",
    "    A = float(input(\"Enter value for A (A ≠ 0): \"))\n",
    "    B = float(input(\"Enter value for B: \"))\n",
    "    C = float(input(\"Enter value for C: \"))\n",
    "\n",
    "    print(\"General Form: ax² + bx + c = 0\")\n",
    "    print(f\"\\n{A}x² + {B}x + {C} = 0\")\n",
    "    print(\"The roots of the equation are:\")\n",
    "    print(quadratic(A, B, C))\n",
    "\n",
    "elif choice == 2:\n",
    "    A = float(input(\"Enter value for A (A ≠ 0): \"))\n",
    "    B = float(input(\"Enter value for B: \"))\n",
    "    C = float(input(\"Enter value for C: \"))\n",
    "    D = float(input(\"Enter value for D: \"))\n",
    "\n",
    "    print(\"General Form: ax³ + bx² + cx + d = 0\")\n",
    "    print(f\"\\n{A}x³ + {B}x² + {C}x + {D} = 0\")\n",
    "    print(\"The roots of the equation are:\")\n",
    "    print(cubic(A, B, C, D))\n",
    "\n",
    "else:\n",
    "    print(\"Invalid choice. Please select 1 or 2.\")"
   ]
  }
 ],
 "metadata": {
  "kernelspec": {
   "display_name": "Python 3",
   "language": "python",
   "name": "python3"
  },
  "language_info": {
   "codemirror_mode": {
    "name": "ipython",
    "version": 3
   },
   "file_extension": ".py",
   "mimetype": "text/x-python",
   "name": "python",
   "nbconvert_exporter": "python",
   "pygments_lexer": "ipython3",
   "version": "3.13.2"
  }
 },
 "nbformat": 4,
 "nbformat_minor": 2
}
